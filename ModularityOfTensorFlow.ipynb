{
 "cells": [
  {
   "cell_type": "code",
   "execution_count": 1,
   "metadata": {},
   "outputs": [],
   "source": [
    "import tensorflow as tf\n",
    "from datetime import datetime\n",
    "tf.reset_default_graph()\n",
    "# todo: need to run \"tensorboard --logdir tf_logs_relu/\" in python shell to run tensorboard"
   ]
  },
  {
   "cell_type": "code",
   "execution_count": 2,
   "metadata": {},
   "outputs": [],
   "source": [
    "def relu_function(X):\n",
    "    with tf.name_scope(\"relu\"):\n",
    "        w_shape = (int(X.get_shape()[1]), 1)\n",
    "        w = tf.Variable(tf.random_normal(w_shape), name=\"weights\")\n",
    "        b = tf.Variable(1.0, name=\"bias\")\n",
    "        z = tf.add(tf.matmul(X, w), b, name=\"z\")\n",
    "    return tf.maximum(z, 0., name=\"relu\") "
   ]
  },
  {
   "cell_type": "code",
   "execution_count": 3,
   "metadata": {},
   "outputs": [],
   "source": [
    "def time_stamp_for_TensorBoard():\n",
    "    now = datetime.utcnow().strftime(\"%Y%m%d%H%M%S\")\n",
    "    root_log_directory = \"tf_logs_relu\"\n",
    "    log_directory = \"{}/run-{}/\".format(root_log_directory, now)\n",
    "    return log_directory\n"
   ]
  },
  {
   "cell_type": "code",
   "execution_count": 4,
   "metadata": {},
   "outputs": [],
   "source": [
    "n_features = 3\n",
    "N_relus = 5\n",
    "X = tf.placeholder(tf.float32, shape=(None, n_features), name=\"X\")\n",
    "relus = [relu_function(X) for i in range(N_relus)]\n",
    "output = tf.add_n(relus, name=\"output\")\n"
   ]
  },
  {
   "cell_type": "code",
   "execution_count": 5,
   "metadata": {
    "collapsed": true
   },
   "outputs": [],
   "source": [
    "output_summary = tf.summary.scalar('output', output) \n",
    "file_writer = tf.summary.FileWriter(time_stamp_for_TensorBoard(), tf.get_default_graph())\n",
    "file_writer.close()"
   ]
  },
  {
   "cell_type": "code",
   "execution_count": 6,
   "metadata": {},
   "outputs": [],
   "source": [
    "def relu_function_with_threshold(X):\n",
    "    with tf.variable_scope(\"relu_thres\", reuse=True):\n",
    "        threshold = tf.get_variable(\"threshold\")\n",
    "        w_shape = (int(X.get_shape()[1]), 1)\n",
    "        w = tf.Variable(tf.random_normal(w_shape), name=\"weights\")\n",
    "        b = tf.Variable(1.0, name=\"bias\")\n",
    "        z = tf.add(tf.matmul(X, w), b, name=\"z\")\n",
    "        return tf.maximum(z, threshold, name=\"relu\") "
   ]
  },
  {
   "cell_type": "code",
   "execution_count": 7,
   "metadata": {},
   "outputs": [],
   "source": [
    "tf.reset_default_graph()\n",
    "n_features_thres = 5\n",
    "N_relus_thres = 5\n",
    "X_thres = tf.placeholder(tf.float32, shape=(None, n_features_thres), name=\"X\")\n",
    "with tf.variable_scope(\"relu_thres\"):\n",
    "    threshold = tf.get_variable(\"threshold\", shape=(), initializer=tf.constant_initializer(0.0))\n",
    "relus_thres = [relu_function_with_threshold(X_thres) for i in range(N_relus_thres)]\n",
    "output_thres = tf.add_n(relus_thres, name=\"output_thres\")\n"
   ]
  },
  {
   "cell_type": "code",
   "execution_count": 8,
   "metadata": {},
   "outputs": [],
   "source": [
    "file_writer_thres = tf.summary.FileWriter(time_stamp_for_TensorBoard(), tf.get_default_graph())\n",
    "file_writer_thres.close()"
   ]
  },
  {
   "cell_type": "markdown",
   "metadata": {},
   "source": [
    "if we want that \"relu\" function not to worry about the name scopes or variable sharing, we could write - "
   ]
  },
  {
   "cell_type": "code",
   "execution_count": 9,
   "metadata": {},
   "outputs": [],
   "source": [
    "tf.reset_default_graph()\n",
    "output_summary_outside = tf.summary.scalar('output_outside', output) \n",
    "file_writer = tf.summary.FileWriter(time_stamp_for_TensorBoard(), tf.get_default_graph())\n",
    "file_writer.close()"
   ]
  },
  {
   "cell_type": "code",
   "execution_count": 10,
   "metadata": {},
   "outputs": [],
   "source": [
    "def relu_function_with_outSideThreshold(X):\n",
    "    threshold_outside = tf.get_variable(\"threshold_outside\", shape=(), initializer=tf.constant_initializer(0.0))\n",
    "    w_shape = (int(X.get_shape()[1]), 1)\n",
    "    w = tf.Variable(tf.random_normal(w_shape), name=\"weights\")\n",
    "    b = tf.Variable(1.0, name=\"bias\")\n",
    "    z = tf.add(tf.matmul(X, w), b, name=\"z\")\n",
    "    return tf.maximum(z, threshold_outside, name=\"max\") "
   ]
  },
  {
   "cell_type": "code",
   "execution_count": 11,
   "metadata": {},
   "outputs": [],
   "source": [
    "n_features_outside = 5\n",
    "N_relus_outside = 5\n",
    "X_thres_outside = tf.placeholder(tf.float32, shape=(None, n_features_outside), name=\"X\")\n",
    "relus = []\n",
    "for relu_index in range(N_relus_outside):\n",
    "    with tf.variable_scope(\"relu_ouside\", reuse=(relu_index > 0)) as scope:\n",
    "        relus.append(relu_function_with_outSideThreshold(X_thres_outside))\n",
    "\n",
    "output_thres_outside = tf.add_n(relus, name=\"output_thres_outside\")"
   ]
  },
  {
   "cell_type": "code",
   "execution_count": 12,
   "metadata": {},
   "outputs": [],
   "source": [
    "file_writer_thres_outside = tf.summary.FileWriter(time_stamp_for_TensorBoard(), tf.get_default_graph())\n",
    "file_writer_thres_outside.close()"
   ]
  },
  {
   "cell_type": "code",
   "execution_count": 13,
   "metadata": {},
   "outputs": [],
   "source": []
  },
  {
   "cell_type": "code",
   "execution_count": null,
   "metadata": {},
   "outputs": [],
   "source": []
  }
 ],
 "metadata": {
  "kernelspec": {
   "display_name": "Python 2",
   "language": "python",
   "name": "python2"
  },
  "language_info": {
   "codemirror_mode": {
    "name": "ipython",
    "version": 2
   },
   "file_extension": ".py",
   "mimetype": "text/x-python",
   "name": "python",
   "nbconvert_exporter": "python",
   "pygments_lexer": "ipython2",
   "version": "2.7.6"
  }
 },
 "nbformat": 4,
 "nbformat_minor": 0
}
