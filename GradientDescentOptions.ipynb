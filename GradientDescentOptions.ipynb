{
 "cells": [
  {
   "cell_type": "markdown",
   "metadata": {
    "collapsed": true
   },
   "source": [
    "## Batch Gradient Descent\n",
    " The first way to calculate the gradient is explicit to calculate the gradient \n",
    " and when it come to linear regression its fine.\n",
    " But, for example, when we want to calculate the gradient in neural net, this way\n",
    " could be very inefficient and the explicit equation of the gradient could be\n",
    " much more complicated."
   ]
  },
  {
   "cell_type": "code",
   "execution_count": 1,
   "metadata": {},
   "outputs": [],
   "source": [
    "import tensorflow as tf\n",
    "from sklearn import datasets\n",
    "import numpy as np\n",
    "from sklearn.preprocessing import StandardScaler"
   ]
  },
  {
   "cell_type": "code",
   "execution_count": 2,
   "metadata": {},
   "outputs": [],
   "source": [
    "houses = datasets.fetch_california_housing()\n",
    "\n",
    "iteration = 1000\n",
    "learningRate = 0.01\n",
    "m, n = houses.data.shape\n",
    "scaler = StandardScaler()\n",
    "scaled_data = scaler.fit_transform(houses.data)\n",
    "scaled_data_with_bias = np.c_[np.ones((m, 1)), scaled_data] "
   ]
  },
  {
   "cell_type": "code",
   "execution_count": 3,
   "metadata": {},
   "outputs": [],
   "source": [
    "X = tf.constant(scaled_data_with_bias, dtype=tf.float32, name=\"X\")\n",
    "Y = tf.constant(houses.target.reshape(-1, 1), dtype=tf.float32, name=\"Y\")\n",
    "theta = tf.Variable(tf.random_uniform([n+1, 1], -1.0, 1.0), name=\"theta\")\n",
    "\n",
    "y_pred = tf.matmul(X, theta, name=\"predictions\")\n",
    "error = y_pred - Y\n",
    "mse = tf.reduce_mean(tf.square(error), name=\"mse\") # mse - Mean Squared Error\n",
    "init_node = tf.global_variables_initializer()"
   ]
  },
  {
   "cell_type": "code",
   "execution_count": 4,
   "metadata": {},
   "outputs": [
    {
     "name": "stdout",
     "output_type": "stream",
     "text": [
      "Iteration :  0 MSE :  10.06712\n"
     ]
    },
    {
     "name": "stdout",
     "output_type": "stream",
     "text": [
      "Iteration :  100 MSE :  0.7189078\nIteration :  200 MSE :  0.5707189\nIteration :  300 MSE :  0.5565982\nIteration :  400 MSE :  0.5479179\nIteration :  500 MSE :  0.5416264\nIteration :  600 MSE :  0.5370417\nIteration :  700 MSE :  0.53369474\n"
     ]
    },
    {
     "name": "stdout",
     "output_type": "stream",
     "text": [
      "Iteration :  800 MSE :  0.5312474\nIteration :  900 MSE :  0.5294548\n"
     ]
    }
   ],
   "source": [
    "gradient = (2/m) * tf.matmul(tf.transpose(X), error)\n",
    "training_node = tf.assign(theta, theta - learningRate * gradient)\n",
    "with tf.Session() as sess:\n",
    "    sess.run(init_node)\n",
    "    for iter in range(0, iteration):\n",
    "        if iter % 100 == 0:\n",
    "            print(\"Iteration : \", iter, \"MSE : \", mse.eval())\n",
    "        sess.run(training_node)\n",
    "    best_theta = theta.eval()"
   ]
  },
  {
   "cell_type": "markdown",
   "metadata": {},
   "source": []
  },
  {
   "cell_type": "markdown",
   "metadata": {},
   "source": [
    "We can use tensorflow for much more easy way calculate the gradient of the loss function "
   ]
  },
  {
   "cell_type": "code",
   "execution_count": 5,
   "metadata": {},
   "outputs": [
    {
     "name": "stdout",
     "output_type": "stream",
     "text": [
      "Iteration :  0 MSE :  7.13495\nIteration :  100 MSE :  0.818513\nIteration :  200 MSE :  0.6778849\nIteration :  300 MSE :  0.63955176\nIteration :  400 MSE :  0.6121939\n"
     ]
    },
    {
     "name": "stdout",
     "output_type": "stream",
     "text": [
      "Iteration :  500 MSE :  0.591694\nIteration :  600 MSE :  0.5762431\nIteration :  700 MSE :  0.56454366\nIteration :  800 MSE :  0.5556427\nIteration :  900 MSE :  0.54883736\n"
     ]
    }
   ],
   "source": [
    "gradient2 = tf.gradients(mse, [theta])[0]\n",
    "training_node = tf.assign(theta, theta - learningRate * gradient2)\n",
    "with tf.Session() as sess_op1:\n",
    "    sess_op1.run(init_node)\n",
    "    for iter in range(0, iteration):\n",
    "        if iter % 100 == 0:\n",
    "            print(\"Iteration : \", iter, \"MSE : \", mse.eval())\n",
    "        sess_op1.run(training_node)\n",
    "    best_theta = theta.eval()"
   ]
  },
  {
   "cell_type": "markdown",
   "metadata": {},
   "source": []
  },
  {
   "cell_type": "markdown",
   "metadata": {},
   "source": [
    "In addition, google give as some optimization for calculating the gradient and make the\n",
    "training more efficient so we can use -"
   ]
  },
  {
   "cell_type": "code",
   "execution_count": 6,
   "metadata": {},
   "outputs": [
    {
     "name": "stdout",
     "output_type": "stream",
     "text": [
      "Iteration :  0 MSE :  3.9333186\nIteration :  100 MSE :  0.9359435\nIteration :  200 MSE :  0.79566395\nIteration :  300 MSE :  0.7240079\nIteration :  400 MSE :  0.67254627\nIteration :  500 MSE :  0.63477564\nIteration :  600 MSE :  0.6069445\n"
     ]
    },
    {
     "name": "stdout",
     "output_type": "stream",
     "text": [
      "Iteration :  700 MSE :  0.5863774\nIteration :  800 MSE :  0.57113194\nIteration :  900 MSE :  0.5597934\n"
     ]
    }
   ],
   "source": [
    "optimizer = tf.train.GradientDescentOptimizer(learning_rate=learningRate)\n",
    "training_node_optimizer = optimizer.minimize(mse)\n",
    "\n",
    "training_node = tf.assign(theta, theta - learningRate * gradient2)\n",
    "with tf.Session() as sess_op2:\n",
    "    sess_op2.run(init_node)\n",
    "    for iter in range(0, iteration):\n",
    "        if iter % 100 == 0:\n",
    "            print(\"Iteration : \", iter, \"MSE : \", mse.eval())\n",
    "        sess_op2.run(training_node_optimizer)\n",
    "    best_theta = theta.eval()"
   ]
  }
 ],
 "metadata": {
  "kernelspec": {
   "display_name": "Python 2",
   "language": "python",
   "name": "python2"
  },
  "language_info": {
   "codemirror_mode": {
    "name": "ipython",
    "version": 2
   },
   "file_extension": ".py",
   "mimetype": "text/x-python",
   "name": "python",
   "nbconvert_exporter": "python",
   "pygments_lexer": "ipython2",
   "version": "2.7.6"
  }
 },
 "nbformat": 4,
 "nbformat_minor": 0
}
